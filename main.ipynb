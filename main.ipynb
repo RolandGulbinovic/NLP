{
 "cells": [
  {
   "cell_type": "code",
   "execution_count": 1,
   "metadata": {},
   "outputs": [],
   "source": [
    "\n",
    "from bs4 import BeautifulSoup\n",
    "import requests\n",
    "import pandas as pd\n",
    "import re\n",
    "from IPython.display import HTML\n",
    "import fasttext.util\n",
    "pd.set_option('display.max_rows', 500)\n",
    "pd.set_option('display.max_colwidth', None)\n",
    "from scraping import get_markes, get_modeliai, get_category, get_detales\n",
    "from GUI import GUI\n",
    "global mark_list, mark_title\n",
    "\n",
    "\n",
    "#import GUI"
   ]
  },
  {
   "cell_type": "code",
   "execution_count": 2,
   "metadata": {},
   "outputs": [
    {
     "name": "stderr",
     "output_type": "stream",
     "text": [
      "Warning : `load_model` does not return WordVectorModel or SupervisedModel any more, but a `FastText` object which is very similar.\n"
     ]
    }
   ],
   "source": [
    "mark_title, mark_list = get_markes()\n",
    "#model_title, modelis = get_modeliai(\"Audi\" ,mark_title)\n",
    "#parts_title, category = get_category(\"80 B1 (1972-1978)\", model_title)\n",
    "#detales = get_detales(\"Apšvietimo sistema >> (9)\",\"Audi\" , parts_title)\n",
    "#detales\n",
    "\n",
    "ft = fasttext.load_model('cc.lt.300.bin')\n",
    "\n"
   ]
  },
  {
   "cell_type": "code",
   "execution_count": 3,
   "metadata": {},
   "outputs": [
    {
     "name": "stderr",
     "output_type": "stream",
     "text": [
      "Exception in Tkinter callback\n",
      "Traceback (most recent call last):\n",
      "  File \"D:\\JUPYTER\\lib\\tkinter\\__init__.py\", line 1883, in __call__\n",
      "    return self.func(*args)\n",
      "  File \"C:\\Users\\rolan\\Desktop\\NLP\\GUI.py\", line 70, in <lambda>\n",
      "    button2 = tk.Button(file_frame, text = \"Paieška\", command=lambda: Search())\n",
      "  File \"C:\\Users\\rolan\\Desktop\\NLP\\GUI.py\", line 134, in Search\n",
      "    match_index.add()\n",
      "TypeError: add() takes exactly one argument (0 given)\n",
      "Exception in Tkinter callback\n",
      "Traceback (most recent call last):\n",
      "  File \"D:\\JUPYTER\\lib\\tkinter\\__init__.py\", line 1883, in __call__\n",
      "    return self.func(*args)\n",
      "  File \"C:\\Users\\rolan\\Desktop\\NLP\\GUI.py\", line 70, in <lambda>\n",
      "    button2 = tk.Button(file_frame, text = \"Paieška\", command=lambda: Search())\n",
      "  File \"C:\\Users\\rolan\\Desktop\\NLP\\GUI.py\", line 149, in Search\n",
      "    d1 = d1.append(detales.iloc[i])\n",
      "  File \"D:\\JUPYTER\\lib\\site-packages\\pandas\\core\\indexing.py\", line 879, in __getitem__\n",
      "    return self._getitem_axis(maybe_callable, axis=axis)\n",
      "  File \"D:\\JUPYTER\\lib\\site-packages\\pandas\\core\\indexing.py\", line 1496, in _getitem_axis\n",
      "    self._validate_integer(key, axis)\n",
      "  File \"D:\\JUPYTER\\lib\\site-packages\\pandas\\core\\indexing.py\", line 1437, in _validate_integer\n",
      "    raise IndexError(\"single positional indexer is out-of-bounds\")\n",
      "IndexError: single positional indexer is out-of-bounds\n"
     ]
    }
   ],
   "source": [
    "GUI(mark_list, mark_title, ft)\n"
   ]
  },
  {
   "cell_type": "code",
   "execution_count": 36,
   "metadata": {},
   "outputs": [
    {
     "data": {
      "text/plain": [
       "<fasttext.FastText._FastText at 0x18684373dc0>"
      ]
     },
     "execution_count": 36,
     "metadata": {},
     "output_type": "execute_result"
    }
   ],
   "source": [
    "fasttext.util.reduce_model(ft, 300)"
   ]
  },
  {
   "cell_type": "code",
   "execution_count": 16,
   "metadata": {},
   "outputs": [],
   "source": [
    "\n",
    "tokens = search.split()\n",
    "\n",
    "def relevant_words(searching):\n",
    "    relevant_words = []\n",
    "    for i in searching:\n",
    "        relevant_words += ft.get_nearest_neighbors(i, k = 5)\n",
    "\n",
    "    for i in range(len(relevant_words)):\n",
    "        relevant_words[i] = relevant_words[i][1]\n",
    "    \n",
    "    return relevant_words\n",
    "    \n",
    "#for i in data\n",
    "detale_tokens = []\n",
    "for i in detales.Detalė.values:\n",
    "    detale_tokens.append(get_tokens(i))\n",
    "    \n",
    "detales[\"tokens\"] = detale_tokens\n",
    "\n"
   ]
  },
  {
   "cell_type": "code",
   "execution_count": 6,
   "metadata": {},
   "outputs": [],
   "source": [
    "def get_tokens(words):\n",
    "    tokens = words.split()\n",
    "    return tokens"
   ]
  },
  {
   "cell_type": "code",
   "execution_count": 28,
   "metadata": {},
   "outputs": [],
   "source": [
    "def searchprog(searching):\n",
    "    search_tokens = []\n",
    "    search_tokens.append(get_tokens(searching))\n",
    "    relevant_word = relevant_words(search_tokens[0])\n",
    "    k = 0\n",
    "    match_index = set()\n",
    "    for value in detales.tokens.values:\n",
    "        for i in value:\n",
    "            if i in search_tokens[0]:\n",
    "                match_index.add(k)\n",
    "            if i in relevant_word:\n",
    "                match_index.add(k)\n",
    "        k += 1\n",
    "        \n",
    "    k = 0\n",
    "    for value in detales.daugiau_info.values:\n",
    "        for i in value:\n",
    "            if i in search_tokens[0]:\n",
    "                match_index.add(k)\n",
    "            if i in relevant_word:\n",
    "                match_index.add(k)\n",
    "        k += 1\n",
    "    \n",
    "    k = 0\n",
    "    for value in detales.Info.values:\n",
    "        for i in value:\n",
    "            if i in search_tokens[0]:\n",
    "                match_index.add(k)\n",
    "            if i in relevant_word:\n",
    "                match_index.add(k)\n",
    "        k += 1\n",
    "    \n",
    "    return match_index"
   ]
  },
  {
   "cell_type": "code",
   "execution_count": 11,
   "metadata": {},
   "outputs": [
    {
     "data": {
      "text/plain": [
       "['Flegmatizatorius',\n",
       " 'narkotizatorius',\n",
       " 'maršutizatorius',\n",
       " 'sekventizatorius',\n",
       " 'analyzatorius',\n",
       " 'test2',\n",
       " 'testvér',\n",
       " 'test3',\n",
       " 'test1',\n",
       " 'test6']"
      ]
     },
     "execution_count": 11,
     "metadata": {},
     "output_type": "execute_result"
    }
   ],
   "source": [
    "test = relevant_words([\"armatizatorius\", \"test\"])\n",
    "test"
   ]
  },
  {
   "cell_type": "code",
   "execution_count": 33,
   "metadata": {},
   "outputs": [],
   "source": [
    "a = searchprog(\"a\")"
   ]
  },
  {
   "cell_type": "code",
   "execution_count": 87,
   "metadata": {},
   "outputs": [
    {
     "data": {
      "text/plain": [
       "True"
      ]
     },
     "execution_count": 87,
     "metadata": {},
     "output_type": "execute_result"
    }
   ],
   "source": []
  },
  {
   "cell_type": "code",
   "execution_count": 34,
   "metadata": {},
   "outputs": [
    {
     "data": {
      "text/plain": [
       "{0, 1, 2, 3, 4, 5, 6, 7, 8}"
      ]
     },
     "execution_count": 34,
     "metadata": {},
     "output_type": "execute_result"
    }
   ],
   "source": [
    "a"
   ]
  },
  {
   "cell_type": "code",
   "execution_count": 210,
   "metadata": {},
   "outputs": [
    {
     "data": {
      "text/html": [
       "<div>\n",
       "<style scoped>\n",
       "    .dataframe tbody tr th:only-of-type {\n",
       "        vertical-align: middle;\n",
       "    }\n",
       "\n",
       "    .dataframe tbody tr th {\n",
       "        vertical-align: top;\n",
       "    }\n",
       "\n",
       "    .dataframe thead th {\n",
       "        text-align: right;\n",
       "    }\n",
       "</style>\n",
       "<table border=\"1\" class=\"dataframe\">\n",
       "  <thead>\n",
       "    <tr style=\"text-align: right;\">\n",
       "      <th></th>\n",
       "      <th>Detalė</th>\n",
       "      <th>Info</th>\n",
       "      <th>Kaina</th>\n",
       "      <th>Nuoroda</th>\n",
       "      <th>daugiau_info</th>\n",
       "      <th>tokens</th>\n",
       "    </tr>\n",
       "  </thead>\n",
       "  <tbody>\n",
       "    <tr>\n",
       "      <th>0</th>\n",
       "      <td>Galinis atšvaitas</td>\n",
       "      <td>Audi 80 B1 2000, 1kW, 1cm3, Kita, Automatinė</td>\n",
       "      <td>€19.00</td>\n",
       "      <td>https://rrr.lt/autodalis/atv22928-24135110-audi-80-b1-galinis-atsvaitas</td>\n",
       "      <td>[Gamintojas, Audi, Serija, 80, 90, Modelis, 80 B1, Gamybos metai, 1972-1978, Metai, 2000, Kėbulo tipas, Sedanas, Vairo padėtis, Kairėje, Varomieji ratai, Visi, Kuro tipas, Kita, Variklio tūris, cm3, 1, Variklio galia, kW, 1, Greičio dėžė, Automatinė, Spalva, Juoda, Rida, km, 1, ]</td>\n",
       "      <td>[Galinis, atšvaitas]</td>\n",
       "    </tr>\n",
       "    <tr>\n",
       "      <th>1</th>\n",
       "      <td>Priešrūkinis žibintas priekyje</td>\n",
       "      <td>Audi 80 B1 2000, 1kW, 1cm3, Kita, Automatinė</td>\n",
       "      <td>€16.00</td>\n",
       "      <td>https://rrr.lt/autodalis/atv22578-246968-audi-80-b1-priesrukinis-zibintas-priekyje</td>\n",
       "      <td>[Gamintojas, Audi, Serija, 80, 90, Modelis, 80 B1, Gamybos metai, 1972-1978, Metai, 2000, Kėbulo tipas, Sedanas, Vairo padėtis, Kairėje, Varomieji ratai, Visi, Kuro tipas, Kita, Variklio tūris, cm3, 1, Variklio galia, kW, 1, Greičio dėžė, Automatinė, Spalva, Juoda, Rida, km, 1, ]</td>\n",
       "      <td>[Priešrūkinis, žibintas, priekyje]</td>\n",
       "    </tr>\n",
       "    <tr>\n",
       "      <th>2</th>\n",
       "      <td>Priešrūkinis žibintas priekyje</td>\n",
       "      <td>Audi 80 B1 2000, 1kW, 1cm3, Kita, Automatinė</td>\n",
       "      <td>€10.00</td>\n",
       "      <td>https://rrr.lt/autodalis/atv22577-4d0941699b-audi-80-b1-priesrukinis-zibintas-priekyje</td>\n",
       "      <td>[Gamintojas, Audi, Serija, 80, 90, Modelis, 80 B1, Gamybos metai, 1972-1978, Metai, 2000, Kėbulo tipas, Sedanas, Vairo padėtis, Kairėje, Varomieji ratai, Visi, Kuro tipas, Kita, Variklio tūris, cm3, 1, Variklio galia, kW, 1, Greičio dėžė, Automatinė, Spalva, Juoda, Rida, km, 1, ]</td>\n",
       "      <td>[Priešrūkinis, žibintas, priekyje]</td>\n",
       "    </tr>\n",
       "    <tr>\n",
       "      <th>3</th>\n",
       "      <td>Priešrūkinis žibintas priekyje</td>\n",
       "      <td>Audi 80 B1 2000, 1kW, 1cm3, Kita, Automatinė</td>\n",
       "      <td>€10.00</td>\n",
       "      <td>https://rrr.lt/autodalis/atv22574-4d0941700b-audi-80-b1-priesrukinis-zibintas-priekyje</td>\n",
       "      <td>[Gamintojas, Audi, Serija, 80, 90, Modelis, 80 B1, Gamybos metai, 1972-1978, Metai, 2000, Kėbulo tipas, Sedanas, Vairo padėtis, Kairėje, Varomieji ratai, Visi, Kuro tipas, Kita, Variklio tūris, cm3, 1, Variklio galia, kW, 1, Greičio dėžė, Automatinė, Spalva, Juoda, Rida, km, 1, ]</td>\n",
       "      <td>[Priešrūkinis, žibintas, priekyje]</td>\n",
       "    </tr>\n",
       "    <tr>\n",
       "      <th>4</th>\n",
       "      <td>Priešrūkinis žibintas priekyje</td>\n",
       "      <td>Audi 80 B1 2000, 1kW, 1cm3, Kita, Automatinė</td>\n",
       "      <td>€13.00</td>\n",
       "      <td>https://rrr.lt/autodalis/atv22573-4d0941699-audi-80-b1-priesrukinis-zibintas-priekyje</td>\n",
       "      <td>[Gamintojas, Audi, Serija, 80, 90, Modelis, 80 B1, Gamybos metai, 1972-1978, Metai, 2000, Kėbulo tipas, Sedanas, Vairo padėtis, Kairėje, Varomieji ratai, Visi, Kuro tipas, Kita, Variklio tūris, cm3, 1, Variklio galia, kW, 1, Greičio dėžė, Automatinė, Spalva, Juoda, Rida, km, 1, ]</td>\n",
       "      <td>[Priešrūkinis, žibintas, priekyje]</td>\n",
       "    </tr>\n",
       "    <tr>\n",
       "      <th>5</th>\n",
       "      <td>Galinis atšvaitas</td>\n",
       "      <td>Audi 80 B1 2000, 1kW, 1cm3, Kita, Automatinė</td>\n",
       "      <td>€9.00</td>\n",
       "      <td>https://rrr.lt/autodalis/atv21403-7301188-audi-80-b1-galinis-atsvaitas</td>\n",
       "      <td>[Gamintojas, Audi, Serija, 80, 90, Modelis, 80 B1, Gamybos metai, 1972-1978, Metai, 2000, Kėbulo tipas, Sedanas, Vairo padėtis, Kairėje, Varomieji ratai, Visi, Kuro tipas, Kita, Variklio tūris, cm3, 1, Variklio galia, kW, 1, Greičio dėžė, Automatinė, Spalva, Juoda, Rida, km, 1, ]</td>\n",
       "      <td>[Galinis, atšvaitas]</td>\n",
       "    </tr>\n",
       "    <tr>\n",
       "      <th>6</th>\n",
       "      <td>Priekinis žibintas</td>\n",
       "      <td>Audi 80 B1 2000, 1kW, 1cm3, Kita, Automatinė</td>\n",
       "      <td>€340.00</td>\n",
       "      <td>https://rrr.lt/autodalis/atv17839-209463001-audi-80-b1-priekinis-zibintas</td>\n",
       "      <td>[Gamintojas, Audi, Serija, 80, 90, Modelis, 80 B1, Gamybos metai, 1972-1978, Metai, 2000, Kėbulo tipas, Sedanas, Vairo padėtis, Kairėje, Varomieji ratai, Visi, Kuro tipas, Kita, Variklio tūris, cm3, 1, Variklio galia, kW, 1, Greičio dėžė, Automatinė, Spalva, Juoda, Rida, km, 1, ]</td>\n",
       "      <td>[Priekinis, žibintas]</td>\n",
       "    </tr>\n",
       "    <tr>\n",
       "      <th>7</th>\n",
       "      <td>Galinis žibintas kėbule</td>\n",
       "      <td>Audi 80 B1 2000, 1kW, 1cm3, Kita, Automatinė</td>\n",
       "      <td>€55.00</td>\n",
       "      <td>https://rrr.lt/autodalis/atv17307-6003tao161-audi-80-b1-galinis-zibintas-kebule</td>\n",
       "      <td>[Gamintojas, Audi, Serija, 80, 90, Modelis, 80 B1, Gamybos metai, 1972-1978, Metai, 2000, Kėbulo tipas, Sedanas, Vairo padėtis, Kairėje, Varomieji ratai, Visi, Kuro tipas, Kita, Variklio tūris, cm3, 1, Variklio galia, kW, 1, Greičio dėžė, Automatinė, Spalva, Juoda, Rida, km, 1, ]</td>\n",
       "      <td>[Galinis, žibintas, kėbule]</td>\n",
       "    </tr>\n",
       "    <tr>\n",
       "      <th>8</th>\n",
       "      <td>Galinis žibintas kėbule</td>\n",
       "      <td>Audi 80 B1 2000, 1kW, 1cm3, Kita, Automatinė</td>\n",
       "      <td>€55.00</td>\n",
       "      <td>https://rrr.lt/autodalis/atv17306-6003tao162-audi-80-b1-galinis-zibintas-kebule</td>\n",
       "      <td>[Gamintojas, Audi, Serija, 80, 90, Modelis, 80 B1, Gamybos metai, 1972-1978, Metai, 2000, Kėbulo tipas, Sedanas, Vairo padėtis, Kairėje, Varomieji ratai, Visi, Kuro tipas, Kita, Variklio tūris, cm3, 1, Variklio galia, kW, 1, Greičio dėžė, Automatinė, Spalva, Juoda, Rida, km, 1, ]</td>\n",
       "      <td>[Galinis, žibintas, kėbule]</td>\n",
       "    </tr>\n",
       "  </tbody>\n",
       "</table>\n",
       "</div>"
      ],
      "text/plain": [
       "                            Detalė  \\\n",
       "0               Galinis atšvaitas    \n",
       "1  Priešrūkinis žibintas priekyje    \n",
       "2  Priešrūkinis žibintas priekyje    \n",
       "3  Priešrūkinis žibintas priekyje    \n",
       "4  Priešrūkinis žibintas priekyje    \n",
       "5               Galinis atšvaitas    \n",
       "6              Priekinis žibintas    \n",
       "7         Galinis žibintas kėbule    \n",
       "8         Galinis žibintas kėbule    \n",
       "\n",
       "                                           Info    Kaina  \\\n",
       "0  Audi 80 B1 2000, 1kW, 1cm3, Kita, Automatinė   €19.00   \n",
       "1  Audi 80 B1 2000, 1kW, 1cm3, Kita, Automatinė   €16.00   \n",
       "2  Audi 80 B1 2000, 1kW, 1cm3, Kita, Automatinė   €10.00   \n",
       "3  Audi 80 B1 2000, 1kW, 1cm3, Kita, Automatinė   €10.00   \n",
       "4  Audi 80 B1 2000, 1kW, 1cm3, Kita, Automatinė   €13.00   \n",
       "5  Audi 80 B1 2000, 1kW, 1cm3, Kita, Automatinė    €9.00   \n",
       "6  Audi 80 B1 2000, 1kW, 1cm3, Kita, Automatinė  €340.00   \n",
       "7  Audi 80 B1 2000, 1kW, 1cm3, Kita, Automatinė   €55.00   \n",
       "8  Audi 80 B1 2000, 1kW, 1cm3, Kita, Automatinė   €55.00   \n",
       "\n",
       "                                                                                  Nuoroda  \\\n",
       "0                 https://rrr.lt/autodalis/atv22928-24135110-audi-80-b1-galinis-atsvaitas   \n",
       "1      https://rrr.lt/autodalis/atv22578-246968-audi-80-b1-priesrukinis-zibintas-priekyje   \n",
       "2  https://rrr.lt/autodalis/atv22577-4d0941699b-audi-80-b1-priesrukinis-zibintas-priekyje   \n",
       "3  https://rrr.lt/autodalis/atv22574-4d0941700b-audi-80-b1-priesrukinis-zibintas-priekyje   \n",
       "4   https://rrr.lt/autodalis/atv22573-4d0941699-audi-80-b1-priesrukinis-zibintas-priekyje   \n",
       "5                  https://rrr.lt/autodalis/atv21403-7301188-audi-80-b1-galinis-atsvaitas   \n",
       "6               https://rrr.lt/autodalis/atv17839-209463001-audi-80-b1-priekinis-zibintas   \n",
       "7         https://rrr.lt/autodalis/atv17307-6003tao161-audi-80-b1-galinis-zibintas-kebule   \n",
       "8         https://rrr.lt/autodalis/atv17306-6003tao162-audi-80-b1-galinis-zibintas-kebule   \n",
       "\n",
       "                                                                                                                                                                                                                                                                               daugiau_info  \\\n",
       "0  [Gamintojas, Audi, Serija, 80, 90, Modelis, 80 B1, Gamybos metai, 1972-1978, Metai, 2000, Kėbulo tipas, Sedanas, Vairo padėtis, Kairėje, Varomieji ratai, Visi, Kuro tipas, Kita, Variklio tūris, cm3, 1, Variklio galia, kW, 1, Greičio dėžė, Automatinė, Spalva, Juoda, Rida, km, 1, ]   \n",
       "1  [Gamintojas, Audi, Serija, 80, 90, Modelis, 80 B1, Gamybos metai, 1972-1978, Metai, 2000, Kėbulo tipas, Sedanas, Vairo padėtis, Kairėje, Varomieji ratai, Visi, Kuro tipas, Kita, Variklio tūris, cm3, 1, Variklio galia, kW, 1, Greičio dėžė, Automatinė, Spalva, Juoda, Rida, km, 1, ]   \n",
       "2  [Gamintojas, Audi, Serija, 80, 90, Modelis, 80 B1, Gamybos metai, 1972-1978, Metai, 2000, Kėbulo tipas, Sedanas, Vairo padėtis, Kairėje, Varomieji ratai, Visi, Kuro tipas, Kita, Variklio tūris, cm3, 1, Variklio galia, kW, 1, Greičio dėžė, Automatinė, Spalva, Juoda, Rida, km, 1, ]   \n",
       "3  [Gamintojas, Audi, Serija, 80, 90, Modelis, 80 B1, Gamybos metai, 1972-1978, Metai, 2000, Kėbulo tipas, Sedanas, Vairo padėtis, Kairėje, Varomieji ratai, Visi, Kuro tipas, Kita, Variklio tūris, cm3, 1, Variklio galia, kW, 1, Greičio dėžė, Automatinė, Spalva, Juoda, Rida, km, 1, ]   \n",
       "4  [Gamintojas, Audi, Serija, 80, 90, Modelis, 80 B1, Gamybos metai, 1972-1978, Metai, 2000, Kėbulo tipas, Sedanas, Vairo padėtis, Kairėje, Varomieji ratai, Visi, Kuro tipas, Kita, Variklio tūris, cm3, 1, Variklio galia, kW, 1, Greičio dėžė, Automatinė, Spalva, Juoda, Rida, km, 1, ]   \n",
       "5  [Gamintojas, Audi, Serija, 80, 90, Modelis, 80 B1, Gamybos metai, 1972-1978, Metai, 2000, Kėbulo tipas, Sedanas, Vairo padėtis, Kairėje, Varomieji ratai, Visi, Kuro tipas, Kita, Variklio tūris, cm3, 1, Variklio galia, kW, 1, Greičio dėžė, Automatinė, Spalva, Juoda, Rida, km, 1, ]   \n",
       "6  [Gamintojas, Audi, Serija, 80, 90, Modelis, 80 B1, Gamybos metai, 1972-1978, Metai, 2000, Kėbulo tipas, Sedanas, Vairo padėtis, Kairėje, Varomieji ratai, Visi, Kuro tipas, Kita, Variklio tūris, cm3, 1, Variklio galia, kW, 1, Greičio dėžė, Automatinė, Spalva, Juoda, Rida, km, 1, ]   \n",
       "7  [Gamintojas, Audi, Serija, 80, 90, Modelis, 80 B1, Gamybos metai, 1972-1978, Metai, 2000, Kėbulo tipas, Sedanas, Vairo padėtis, Kairėje, Varomieji ratai, Visi, Kuro tipas, Kita, Variklio tūris, cm3, 1, Variklio galia, kW, 1, Greičio dėžė, Automatinė, Spalva, Juoda, Rida, km, 1, ]   \n",
       "8  [Gamintojas, Audi, Serija, 80, 90, Modelis, 80 B1, Gamybos metai, 1972-1978, Metai, 2000, Kėbulo tipas, Sedanas, Vairo padėtis, Kairėje, Varomieji ratai, Visi, Kuro tipas, Kita, Variklio tūris, cm3, 1, Variklio galia, kW, 1, Greičio dėžė, Automatinė, Spalva, Juoda, Rida, km, 1, ]   \n",
       "\n",
       "                               tokens  \n",
       "0                [Galinis, atšvaitas]  \n",
       "1  [Priešrūkinis, žibintas, priekyje]  \n",
       "2  [Priešrūkinis, žibintas, priekyje]  \n",
       "3  [Priešrūkinis, žibintas, priekyje]  \n",
       "4  [Priešrūkinis, žibintas, priekyje]  \n",
       "5                [Galinis, atšvaitas]  \n",
       "6               [Priekinis, žibintas]  \n",
       "7         [Galinis, žibintas, kėbule]  \n",
       "8         [Galinis, žibintas, kėbule]  "
      ]
     },
     "execution_count": 210,
     "metadata": {},
     "output_type": "execute_result"
    }
   ],
   "source": [
    "df = pd.DataFrame()\n",
    "for i in a:\n",
    "    df = df.append(detales.iloc[i])\n",
    "    \n",
    "df"
   ]
  },
  {
   "cell_type": "code",
   "execution_count": 99,
   "metadata": {},
   "outputs": [],
   "source": [
    "df = pd.DataFrame(detales.iloc[5])"
   ]
  },
  {
   "cell_type": "code",
   "execution_count": 148,
   "metadata": {},
   "outputs": [
    {
     "ename": "SyntaxError",
     "evalue": "unexpected EOF while parsing (<ipython-input-148-e642e0ff21c9>, line 2)",
     "output_type": "error",
     "traceback": [
      "\u001b[1;36m  File \u001b[1;32m\"<ipython-input-148-e642e0ff21c9>\"\u001b[1;36m, line \u001b[1;32m2\u001b[0m\n\u001b[1;33m    for i in value:\u001b[0m\n\u001b[1;37m                   ^\u001b[0m\n\u001b[1;31mSyntaxError\u001b[0m\u001b[1;31m:\u001b[0m unexpected EOF while parsing\n"
     ]
    }
   ],
   "source": [
    "for value in detales.daugiau_info.values:\n",
    "    for i in value:\n",
    "        "
   ]
  },
  {
   "cell_type": "code",
   "execution_count": 120,
   "metadata": {},
   "outputs": [
    {
     "ename": "ModuleNotFoundError",
     "evalue": "No module named 'pymagnitude'",
     "output_type": "error",
     "traceback": [
      "\u001b[1;31m---------------------------------------------------------------------------\u001b[0m",
      "\u001b[1;31mModuleNotFoundError\u001b[0m                       Traceback (most recent call last)",
      "\u001b[1;32m<ipython-input-120-b6d6538eb787>\u001b[0m in \u001b[0;36m<module>\u001b[1;34m\u001b[0m\n\u001b[1;32m----> 1\u001b[1;33m \u001b[1;32mfrom\u001b[0m \u001b[0mpymagnitude\u001b[0m \u001b[1;32mimport\u001b[0m \u001b[0mMagnitude\u001b[0m\u001b[1;33m\u001b[0m\u001b[1;33m\u001b[0m\u001b[0m\n\u001b[0m\u001b[0;32m      2\u001b[0m \u001b[1;33m\u001b[0m\u001b[0m\n\u001b[0;32m      3\u001b[0m \u001b[1;32mdef\u001b[0m \u001b[0minit_model\u001b[0m\u001b[1;33m(\u001b[0m\u001b[1;33m)\u001b[0m\u001b[1;33m:\u001b[0m\u001b[1;33m\u001b[0m\u001b[1;33m\u001b[0m\u001b[0m\n\u001b[0;32m      4\u001b[0m   \u001b[0mmodel\u001b[0m \u001b[1;33m=\u001b[0m \u001b[0mMagnitude\u001b[0m\u001b[1;33m(\u001b[0m\u001b[1;34m'cc.lt.300.bin'\u001b[0m\u001b[1;33m)\u001b[0m\u001b[1;33m\u001b[0m\u001b[1;33m\u001b[0m\u001b[0m\n\u001b[0;32m      5\u001b[0m   \u001b[1;32mreturn\u001b[0m \u001b[0mmodel\u001b[0m\u001b[1;33m\u001b[0m\u001b[1;33m\u001b[0m\u001b[0m\n",
      "\u001b[1;31mModuleNotFoundError\u001b[0m: No module named 'pymagnitude'"
     ]
    }
   ],
   "source": [
    "from pymagnitude import Magnitude\n",
    "\n",
    "def init_model():\n",
    "  model = Magnitude('cc.lt.300.bin')\n",
    "  return model\n",
    "\n",
    "em_model = init_model()"
   ]
  },
  {
   "cell_type": "code",
   "execution_count": 121,
   "metadata": {},
   "outputs": [
    {
     "name": "stderr",
     "output_type": "stream",
     "text": [
      "ERROR: Invalid requirement: '#'\n"
     ]
    }
   ],
   "source": [
    "!pip3 install pymagnitude"
   ]
  },
  {
   "cell_type": "code",
   "execution_count": 205,
   "metadata": {},
   "outputs": [
    {
     "data": {
      "text/plain": [
       "{1, 2, 3}"
      ]
     },
     "execution_count": 205,
     "metadata": {},
     "output_type": "execute_result"
    }
   ],
   "source": [
    "match = set()\n",
    "match.add(3)\n",
    "match.add(1)\n",
    "match.add(2)\n",
    "match.add(3)\n",
    "match"
   ]
  },
  {
   "cell_type": "code",
   "execution_count": 21,
   "metadata": {},
   "outputs": [
    {
     "name": "stdout",
     "output_type": "stream",
     "text": [
      "Galinis\n",
      "atšvaitas\n",
      "Priešrūkinis\n",
      "žibintas\n",
      "priekyje\n",
      "Priešrūkinis\n",
      "žibintas\n",
      "priekyje\n",
      "Priešrūkinis\n",
      "žibintas\n",
      "priekyje\n",
      "Priešrūkinis\n",
      "žibintas\n",
      "priekyje\n",
      "Galinis\n",
      "atšvaitas\n",
      "Priekinis\n",
      "žibintas\n",
      "Galinis\n",
      "žibintas\n",
      "kėbule\n",
      "Galinis\n",
      "žibintas\n",
      "kėbule\n"
     ]
    }
   ],
   "source": [
    "for value in detales.Detalė.values:\n",
    "    for i in value.split():\n",
    "        print(i)"
   ]
  },
  {
   "cell_type": "code",
   "execution_count": null,
   "metadata": {},
   "outputs": [],
   "source": []
  }
 ],
 "metadata": {
  "kernelspec": {
   "display_name": "Python 3",
   "language": "python",
   "name": "python3"
  },
  "language_info": {
   "codemirror_mode": {
    "name": "ipython",
    "version": 3
   },
   "file_extension": ".py",
   "mimetype": "text/x-python",
   "name": "python",
   "nbconvert_exporter": "python",
   "pygments_lexer": "ipython3",
   "version": "3.8.5"
  }
 },
 "nbformat": 4,
 "nbformat_minor": 4
}
