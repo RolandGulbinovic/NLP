{
 "cells": [
  {
   "cell_type": "code",
   "execution_count": 2,
   "metadata": {},
   "outputs": [],
   "source": [
    "from bs4 import BeautifulSoup\n",
    "import requests\n",
    "import pandas as pd\n",
    "import re\n",
    "from IPython.display import HTML\n",
    "pd.set_option('display.max_rows', 500)\n",
    "\n",
    "from scraping import get_markes, get_modeliai, get_category, get_detales\n",
    "from GUI import GUI\n",
    "global mark_list, mark_title\n",
    "mark_title, mark_list = get_markes()\n",
    "GUI(mark_list, mark_title)\n",
    "\n",
    "\n",
    "#import GUI"
   ]
  },
  {
   "cell_type": "code",
   "execution_count": null,
   "metadata": {},
   "outputs": [],
   "source": []
  }
 ],
 "metadata": {
  "kernelspec": {
   "display_name": "Python 3",
   "language": "python",
   "name": "python3"
  },
  "language_info": {
   "codemirror_mode": {
    "name": "ipython",
    "version": 3
   },
   "file_extension": ".py",
   "mimetype": "text/x-python",
   "name": "python",
   "nbconvert_exporter": "python",
   "pygments_lexer": "ipython3",
   "version": "3.8.5"
  }
 },
 "nbformat": 4,
 "nbformat_minor": 4
}
