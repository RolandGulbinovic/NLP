{
 "cells": [
  {
   "cell_type": "code",
   "execution_count": 1,
   "metadata": {},
   "outputs": [],
   "source": [
    "from bs4 import BeautifulSoup\n",
    "import requests\n",
    "import pandas as pd\n",
    "import re\n",
    "import fasttext\n",
    "import fasttext.util\n",
    "pd.set_option('display.max_rows', 500)\n",
    "pd.set_option('display.max_colwidth', None)\n",
    "from scraping import get_markes, get_modeliai, get_category, get_detales\n",
    "from GUI import GUI\n",
    "global mark_list, mark_title\n"
   ]
  },
  {
   "cell_type": "code",
   "execution_count": 2,
   "metadata": {},
   "outputs": [
    {
     "name": "stderr",
     "output_type": "stream",
     "text": [
      "Warning : `load_model` does not return WordVectorModel or SupervisedModel any more, but a `FastText` object which is very similar.\n"
     ]
    }
   ],
   "source": [
    "#fasttext.util.download_model('lt', if_exists='ignore') # vektorius lietuvisku zodziu\n",
    "ft = fasttext.load_model('cc.lt.300.bin')"
   ]
  },
  {
   "cell_type": "code",
   "execution_count": 3,
   "metadata": {},
   "outputs": [],
   "source": [
    "mark_title, mark_list = get_markes()"
   ]
  },
  {
   "cell_type": "code",
   "execution_count": 4,
   "metadata": {},
   "outputs": [],
   "source": [
    "GUI(mark_list, mark_title, ft)\n"
   ]
  },
  {
   "cell_type": "code",
   "execution_count": 6,
   "metadata": {
    "scrolled": true
   },
   "outputs": [
    {
     "data": {
      "text/plain": [
       "{'AC': 'https://rrr.lt/naudotos-autodalys/ac-142',\n",
       " 'Acura': 'https://rrr.lt/naudotos-autodalys/acura',\n",
       " 'Aixam': 'https://rrr.lt/naudotos-autodalys/aixam',\n",
       " 'Alfa Romeo': 'https://rrr.lt/naudotos-autodalys/alfa',\n",
       " 'Alpine': 'https://rrr.lt/naudotos-autodalys/alpine',\n",
       " 'ARO': 'https://rrr.lt/naudotos-autodalys/aro',\n",
       " 'Asia': 'https://rrr.lt/naudotos-autodalys/asia',\n",
       " 'Aston Martin': 'https://rrr.lt/naudotos-autodalys/aston-martin',\n",
       " 'Audi': 'https://rrr.lt/naudotos-autodalys/audi',\n",
       " 'Austin': 'https://rrr.lt/naudotos-autodalys/austin',\n",
       " 'Bentley': 'https://rrr.lt/naudotos-autodalys/bentley',\n",
       " 'BMW': 'https://rrr.lt/naudotos-autodalys/bmw',\n",
       " 'Brilliance': 'https://rrr.lt/naudotos-autodalys/brilliance',\n",
       " 'Buick': 'https://rrr.lt/naudotos-autodalys/buick',\n",
       " 'Cadillac': 'https://rrr.lt/naudotos-autodalys/cadillac',\n",
       " 'Chery': 'https://rrr.lt/naudotos-autodalys/chery',\n",
       " 'Chevrolet': 'https://rrr.lt/naudotos-autodalys/chevrolet',\n",
       " 'Chrysler': 'https://rrr.lt/naudotos-autodalys/chrysler',\n",
       " 'Citroen': 'https://rrr.lt/naudotos-autodalys/citroen',\n",
       " 'Cupra': 'https://rrr.lt/naudotos-autodalys/cupra',\n",
       " 'Dacia': 'https://rrr.lt/naudotos-autodalys/dacia',\n",
       " 'Daewoo': 'https://rrr.lt/naudotos-autodalys/daewoo',\n",
       " 'DAF': 'https://rrr.lt/naudotos-autodalys/daf',\n",
       " 'Daihatsu': 'https://rrr.lt/naudotos-autodalys/daihatsu',\n",
       " 'Dodge': 'https://rrr.lt/naudotos-autodalys/dodge',\n",
       " 'Ferrari': 'https://rrr.lt/naudotos-autodalys/ferrari',\n",
       " 'Fiat': 'https://rrr.lt/naudotos-autodalys/fiat',\n",
       " 'Ford': 'https://rrr.lt/naudotos-autodalys/ford',\n",
       " 'GAZ': 'https://rrr.lt/naudotos-autodalys/gaz',\n",
       " 'Geo': 'https://rrr.lt/naudotos-autodalys/geo',\n",
       " 'GMC': 'https://rrr.lt/naudotos-autodalys/gmc',\n",
       " 'Grecav-EKE': 'https://rrr.lt/naudotos-autodalys/grecav-eke',\n",
       " 'Honda': 'https://rrr.lt/naudotos-autodalys/honda',\n",
       " 'Hummer': 'https://rrr.lt/naudotos-autodalys/hummer',\n",
       " 'Hymer': 'https://rrr.lt/naudotos-autodalys/hymer-145',\n",
       " 'Hyundai': 'https://rrr.lt/naudotos-autodalys/hyundai',\n",
       " 'Infiniti': 'https://rrr.lt/naudotos-autodalys/infiniti',\n",
       " 'Isuzu': 'https://rrr.lt/naudotos-autodalys/isuzu',\n",
       " 'Iveco': 'https://rrr.lt/naudotos-autodalys/iveco',\n",
       " 'Jaguar': 'https://rrr.lt/naudotos-autodalys/jaguar',\n",
       " 'Jeep': 'https://rrr.lt/naudotos-autodalys/jeep',\n",
       " 'KIA': 'https://rrr.lt/naudotos-autodalys/kia',\n",
       " 'Lada': 'https://rrr.lt/naudotos-autodalys/lada',\n",
       " 'Lamborghini': 'https://rrr.lt/naudotos-autodalys/lamborghini',\n",
       " 'Lancia': 'https://rrr.lt/naudotos-autodalys/lancia',\n",
       " 'Land Rover': 'https://rrr.lt/naudotos-autodalys/landrover',\n",
       " 'LDV': 'https://rrr.lt/naudotos-autodalys/ldv',\n",
       " 'Lexus': 'https://rrr.lt/naudotos-autodalys/lexus',\n",
       " 'Ligier': 'https://rrr.lt/naudotos-autodalys/ligier',\n",
       " 'Lincoln': 'https://rrr.lt/naudotos-autodalys/lincoln',\n",
       " 'Lotus': 'https://rrr.lt/naudotos-autodalys/lotus',\n",
       " 'Maserati': 'https://rrr.lt/naudotos-autodalys/maserati',\n",
       " 'Mazda': 'https://rrr.lt/naudotos-autodalys/mazda',\n",
       " 'McLaren': 'https://rrr.lt/naudotos-autodalys/mclaren',\n",
       " 'Mercedes-Benz': 'https://rrr.lt/naudotos-autodalys/mercedes',\n",
       " 'Mercury': 'https://rrr.lt/naudotos-autodalys/mercury',\n",
       " 'MG': 'https://rrr.lt/naudotos-autodalys/mg',\n",
       " 'Microcar': 'https://rrr.lt/naudotos-autodalys/microcar',\n",
       " 'Mini': 'https://rrr.lt/naudotos-autodalys/mini',\n",
       " 'Mitsubishi': 'https://rrr.lt/naudotos-autodalys/mitsubishi',\n",
       " 'Moskvich': 'https://rrr.lt/naudotos-autodalys/moskvich',\n",
       " 'Nissan': 'https://rrr.lt/naudotos-autodalys/nissan',\n",
       " 'Oldsmobile': 'https://rrr.lt/naudotos-autodalys/oldsmobile',\n",
       " 'Opel': 'https://rrr.lt/naudotos-autodalys/opel',\n",
       " 'Peugeot': 'https://rrr.lt/naudotos-autodalys/peugeot',\n",
       " 'Piaggio': 'https://rrr.lt/naudotos-autodalys/piaggio',\n",
       " 'Plymouth': 'https://rrr.lt/naudotos-autodalys/plymouth',\n",
       " 'Pontiac': 'https://rrr.lt/naudotos-autodalys/pontiac',\n",
       " 'Porsche': 'https://rrr.lt/naudotos-autodalys/porsche',\n",
       " 'Proton': 'https://rrr.lt/naudotos-autodalys/proton',\n",
       " 'Renault': 'https://rrr.lt/naudotos-autodalys/renault',\n",
       " 'Rolls-Royce': 'https://rrr.lt/naudotos-autodalys/rolls-royce',\n",
       " 'Rover': 'https://rrr.lt/naudotos-autodalys/rover',\n",
       " 'Saab': 'https://rrr.lt/naudotos-autodalys/saab',\n",
       " 'Saturn': 'https://rrr.lt/naudotos-autodalys/saturn',\n",
       " 'Scion': 'https://rrr.lt/naudotos-autodalys/scion',\n",
       " 'Seat': 'https://rrr.lt/naudotos-autodalys/seat',\n",
       " 'Simca': 'https://rrr.lt/naudotos-autodalys/simca',\n",
       " 'Skoda': 'https://rrr.lt/naudotos-autodalys/skoda',\n",
       " 'Smart': 'https://rrr.lt/naudotos-autodalys/smart',\n",
       " 'SsangYong': 'https://rrr.lt/naudotos-autodalys/ssang-yong',\n",
       " 'Subaru': 'https://rrr.lt/naudotos-autodalys/subaru',\n",
       " 'Suzuki': 'https://rrr.lt/naudotos-autodalys/suzuki',\n",
       " 'Tata': 'https://rrr.lt/naudotos-autodalys/tata',\n",
       " 'Tazzari': 'https://rrr.lt/naudotos-autodalys/tazzari',\n",
       " 'Tesla': 'https://rrr.lt/naudotos-autodalys/tesla',\n",
       " 'Toyota': 'https://rrr.lt/naudotos-autodalys/toyota',\n",
       " 'UAZ': 'https://rrr.lt/naudotos-autodalys/uaz',\n",
       " 'Vauxhall': 'https://rrr.lt/naudotos-autodalys/vauxhall',\n",
       " 'VAZ': 'https://rrr.lt/naudotos-autodalys/vaz',\n",
       " 'Volkswagen': 'https://rrr.lt/naudotos-autodalys/volkswagen',\n",
       " 'Volvo': 'https://rrr.lt/naudotos-autodalys/volvo',\n",
       " 'ZAZ': 'https://rrr.lt/naudotos-autodalys/zaz',\n",
       " 'Visos markes': '#'}"
      ]
     },
     "execution_count": 6,
     "metadata": {},
     "output_type": "execute_result"
    }
   ],
   "source": [
    "\n",
    "\n",
    "mark_title"
   ]
  },
  {
   "cell_type": "code",
   "execution_count": 4,
   "metadata": {
    "collapsed": true
   },
   "outputs": [
    {
     "ename": "NameError",
     "evalue": "name 'relevant_words' is not defined",
     "output_type": "error",
     "traceback": [
      "\u001b[1;31m---------------------------------------------------------------------------\u001b[0m",
      "\u001b[1;31mNameError\u001b[0m                                 Traceback (most recent call last)",
      "\u001b[1;32m<ipython-input-4-1a3d60aa94e8>\u001b[0m in \u001b[0;36m<module>\u001b[1;34m\u001b[0m\n\u001b[1;32m----> 1\u001b[1;33m \u001b[0ma\u001b[0m \u001b[1;33m=\u001b[0m \u001b[0mrelevant_words\u001b[0m\u001b[1;33m(\u001b[0m\u001b[1;34m\"Sveikas\"\u001b[0m\u001b[1;33m)\u001b[0m\u001b[1;33m\u001b[0m\u001b[1;33m\u001b[0m\u001b[0m\n\u001b[0m\u001b[0;32m      2\u001b[0m \u001b[0ma\u001b[0m\u001b[1;33m\u001b[0m\u001b[1;33m\u001b[0m\u001b[0m\n",
      "\u001b[1;31mNameError\u001b[0m: name 'relevant_words' is not defined"
     ]
    }
   ],
   "source": [
    "a = relevant_words(\"Sveikas\")\n",
    "a"
   ]
  },
  {
   "cell_type": "code",
   "execution_count": 8,
   "metadata": {},
   "outputs": [
    {
     "data": {
      "text/plain": [
       "[(0.7731522917747498, ',Sveikas'),\n",
       " (0.7249539494514465, '-Sveikas'),\n",
       " (0.6924921274185181, 'sveikas'),\n",
       " (0.6460105180740356, 'Sveikasmiestas'),\n",
       " (0.6431206464767456, 'Nesveikas'),\n",
       " (0.596059262752533, 'Sveikasis'),\n",
       " (0.5857893824577332, 'Sveikuolis'),\n",
       " (0.58515864610672, 'Sveikesnis'),\n",
       " (0.5704585313796997, 'mitybaSveikas'),\n",
       " (0.5696381330490112, 'Sveikuoliškas')]"
      ]
     },
     "execution_count": 8,
     "metadata": {},
     "output_type": "execute_result"
    }
   ],
   "source": [
    "ft.get_nearest_neighbors(\"Sveikas\", k = 10)"
   ]
  }
 ],
 "metadata": {
  "kernelspec": {
   "display_name": "Python 3",
   "language": "python",
   "name": "python3"
  },
  "language_info": {
   "codemirror_mode": {
    "name": "ipython",
    "version": 3
   },
   "file_extension": ".py",
   "mimetype": "text/x-python",
   "name": "python",
   "nbconvert_exporter": "python",
   "pygments_lexer": "ipython3",
   "version": "3.8.5"
  }
 },
 "nbformat": 4,
 "nbformat_minor": 4
}
