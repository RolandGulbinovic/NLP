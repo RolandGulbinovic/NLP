{
 "cells": [
  {
   "cell_type": "code",
   "execution_count": 1,
   "metadata": {},
   "outputs": [],
   "source": [
    "from bs4 import BeautifulSoup\n",
    "import requests\n",
    "import pandas as pd\n",
    "import re\n",
    "from IPython.display import HTML\n",
    "import fasttext.util\n",
    "pd.set_option('display.max_rows', 500)\n",
    "pd.set_option('display.max_colwidth', None)\n",
    "from scraping import get_markes, get_modeliai, get_category, get_detales\n",
    "from GUI import GUI\n",
    "global mark_list, mark_title\n"
   ]
  },
  {
   "cell_type": "code",
   "execution_count": 2,
   "metadata": {},
   "outputs": [
    {
     "name": "stderr",
     "output_type": "stream",
     "text": [
      "Warning : `load_model` does not return WordVectorModel or SupervisedModel any more, but a `FastText` object which is very similar.\n"
     ]
    }
   ],
   "source": [
    "#fasttext.util.download_model('lt', if_exists='ignore') # vektorius lietuvisku zodziu\n",
    "ft = fasttext.load_model('cc.lt.300.bin')"
   ]
  },
  {
   "cell_type": "code",
   "execution_count": 6,
   "metadata": {},
   "outputs": [],
   "source": [
    "mark_title, mark_list = get_markes()"
   ]
  },
  {
   "cell_type": "code",
   "execution_count": null,
   "metadata": {},
   "outputs": [],
   "source": [
    "GUI(mark_list, mark_title, ft)\n"
   ]
  },
  {
   "cell_type": "code",
   "execution_count": 4,
   "metadata": {},
   "outputs": [],
   "source": [
    "def relevant_words(searching): # naudojant fasttext paketo lietuvisku zodziu vektoriu randami 10 panasiausi zodziai\n",
    "    relevant_word_list = []\n",
    "    for i in searching:\n",
    "        relevant_word_list += ft.get_nearest_neighbors(i, k = 10)\n",
    "\n",
    "    for i in range(len(relevant_word_list)):\n",
    "        relevant_word_list[i] = relevant_word_list[i][1].lower()\n",
    "            \n",
    "    return relevant_word_list"
   ]
  },
  {
   "cell_type": "code",
   "execution_count": null,
   "metadata": {},
   "outputs": [],
   "source": [
    "a = relevant_words(\"Sveikas\")\n",
    "a"
   ]
  },
  {
   "cell_type": "code",
   "execution_count": null,
   "metadata": {},
   "outputs": [],
   "source": []
  }
 ],
 "metadata": {
  "kernelspec": {
   "display_name": "Python 3",
   "language": "python",
   "name": "python3"
  },
  "language_info": {
   "codemirror_mode": {
    "name": "ipython",
    "version": 3
   },
   "file_extension": ".py",
   "mimetype": "text/x-python",
   "name": "python",
   "nbconvert_exporter": "python",
   "pygments_lexer": "ipython3",
   "version": "3.8.8"
  }
 },
 "nbformat": 4,
 "nbformat_minor": 4
}
